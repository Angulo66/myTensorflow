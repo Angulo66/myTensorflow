{
 "cells": [
  {
   "cell_type": "markdown",
   "metadata": {},
   "source": [
    "# Introduction to Jupyter Notebooks & Python"
   ]
  },
  {
   "cell_type": "code",
   "execution_count": 1,
   "metadata": {},
   "outputs": [],
   "source": [
    "from __future__ import absolute_import, division, print_function, unicode_literals\n",
    "\n",
    "import numpy as np"
   ]
  },
  {
   "cell_type": "code",
   "execution_count": 2,
   "metadata": {},
   "outputs": [],
   "source": [
    "def HelloWorld(m, b):\n",
    "    if(m < 10):\n",
    "        print(\"m was < 10\")\n",
    "    elif(m < 20):\n",
    "        print(\"m was >= 10 but < 20\")\n",
    "    else:\n",
    "        print(\"m was >= 20\")\n",
    "    \n",
    "    return m + b    "
   ]
  },
  {
   "cell_type": "code",
   "execution_count": 7,
   "metadata": {},
   "outputs": [
    {
     "name": "stdout",
     "output_type": "stream",
     "text": [
      "---> Now running with i: 8\n",
      "m was < 10\n",
      "Result from HelloWorld: 16\n",
      "---> Now running with i: 13\n",
      "m was >= 10 but < 20\n",
      "Result from HelloWorld: 26\n",
      "---> Now running with i: 18\n",
      "m was >= 10 but < 20\n",
      "Result from HelloWorld: 36\n",
      "---> Now running with i: 23\n",
      "m was >= 20\n",
      "Result from HelloWorld: 46\n",
      "---> Now running with i: 28\n",
      "m was >= 20\n",
      "Result from HelloWorld: 56\n"
     ]
    }
   ],
   "source": [
    "for i in range(8, 30, 5): # 8, 13, 18, 23, 28 (start, stop, step)\n",
    "    print(\"---> Now running with i: {}\".format(i))\n",
    "    result = HelloWorld(i, i)\n",
    "    print(\"Result from HelloWorld: {}\".format(result))"
   ]
  },
  {
   "cell_type": "code",
   "execution_count": 9,
   "metadata": {},
   "outputs": [
    {
     "name": "stdout",
     "output_type": "stream",
     "text": [
      "0\n",
      "1\n",
      "2\n",
      "3\n",
      "4\n"
     ]
    }
   ],
   "source": [
    "# iterating in range\n",
    "for i in range(5):\n",
    "    print(i)"
   ]
  },
  {
   "cell_type": "code",
   "execution_count": 12,
   "metadata": {},
   "outputs": [
    {
     "name": "stdout",
     "output_type": "stream",
     "text": [
      "2\n",
      "5\n",
      "7\n",
      "12\n",
      "15\n",
      "19\n"
     ]
    }
   ],
   "source": [
    "# iterating over a list\n",
    "list = [2,5,7,12,15,19]\n",
    "\n",
    "for i in list:\n",
    "    print(i)"
   ]
  },
  {
   "cell_type": "markdown",
   "metadata": {},
   "source": [
    "## Numpy and Lists\n",
    "\n",
    "<code>import numpy as np</code>"
   ]
  },
  {
   "cell_type": "code",
   "execution_count": 20,
   "metadata": {},
   "outputs": [
    {
     "name": "stdout",
     "output_type": "stream",
     "text": [
      "Current numpy array: ['Hello' 'World' '!']\n",
      "Hello\n",
      "World\n",
      "!\n",
      "Index: 0, is Hello\n",
      "Index: 1, is World\n",
      "Index: 2, is !\n"
     ]
    }
   ],
   "source": [
    "# create numpy array, and append an element\n",
    "a = np.array([\"Hello\",\"World\"])\n",
    "a = np.append(a, \"!\")\n",
    "print(\"Current numpy array: {}\".format(a))\n",
    "# print each element in numpy array\n",
    "for i in a:\n",
    "    print(i)\n",
    "    \n",
    "# print each element with respective index\n",
    "for i,e in enumerate(a):\n",
    "    print(\"Index: {}, is {}\".format(i, e))"
   ]
  },
  {
   "cell_type": "code",
   "execution_count": 21,
   "metadata": {},
   "outputs": [
    {
     "name": "stdout",
     "output_type": "stream",
     "text": [
      "\n",
      "Showing some basic math on arrays\n",
      "Max: 4\n",
      "Average: 2.0\n",
      "Max index: 2\n"
     ]
    }
   ],
   "source": [
    "print(\"\\nShowing some basic math on arrays\")\n",
    "b = np.array([0,1,4,3,2])\n",
    "print(\"Max: {}\".format(np.max(b)))\n",
    "print(\"Average: {}\".format(np.average(b)))\n",
    "print(\"Max index: {}\".format(np.argmax(b)))"
   ]
  },
  {
   "cell_type": "code",
   "execution_count": 22,
   "metadata": {},
   "outputs": [
    {
     "name": "stdout",
     "output_type": "stream",
     "text": [
      "\n",
      "You can print the type of anything\n",
      "Type of b: <class 'numpy.ndarray'>, type of b[0]: <class 'numpy.int64'>\n"
     ]
    }
   ],
   "source": [
    "print(\"\\nYou can print the type of anything\")\n",
    "print(\"Type of b: {}, type of b[0]: {}\".format(type(b), type(b[0])))"
   ]
  },
  {
   "cell_type": "code",
   "execution_count": 23,
   "metadata": {},
   "outputs": [
    {
     "name": "stdout",
     "output_type": "stream",
     "text": [
      "\n",
      "Use numpy to create a [3,3] dimension array with random number\n",
      "[[0.1784378  0.09461331 0.44738987]\n",
      " [0.61052109 0.31680654 0.83387813]\n",
      " [0.68465225 0.32099314 0.11970426]]\n"
     ]
    }
   ],
   "source": [
    "print(\"\\nUse numpy to create a [3,3] dimension array with random number\")\n",
    "c = np.random.rand(3, 3)\n",
    "print(c)"
   ]
  },
  {
   "cell_type": "code",
   "execution_count": 24,
   "metadata": {},
   "outputs": [
    {
     "name": "stdout",
     "output_type": "stream",
     "text": [
      "\n",
      "You can print the dimensions of arrays\n",
      "Shape of a: (3,)\n",
      "Shape of b: (5,)\n",
      "Shape of c: (3, 3)\n",
      "...Observe, Python uses both [0,1,2] and (0,1,2) to specify lists\n"
     ]
    }
   ],
   "source": [
    "print(\"\\nYou can print the dimensions of arrays\")\n",
    "print(\"Shape of a: {}\".format(a.shape))\n",
    "print(\"Shape of b: {}\".format(b.shape))\n",
    "print(\"Shape of c: {}\".format(c.shape))\n",
    "print(\"...Observe, Python uses both [0,1,2] and (0,1,2) to specify lists\")"
   ]
  },
  {
   "cell_type": "code",
   "execution_count": 25,
   "metadata": {},
   "outputs": [
    {
     "name": "stdout",
     "output_type": "stream",
     "text": [
      "\n",
      "Doing $ls on filesystem\n",
      "total 24\n",
      "-rw-r--r--  1 macbook  staff  6423 May  9 23:16 Introduction to Jupyter & Python.ipynb\n",
      "drwxr-xr-x  9 macbook  staff   288 May  9 22:53 \u001b[34mmyFirstClassifier\u001b[m\u001b[m\n",
      "-rw-r--r--  1 macbook  staff  2954 May  9 22:53 notebook.ipynb\n",
      "/Users/macbook/Documents/github/my github/tensorflow\n"
     ]
    }
   ],
   "source": [
    "print(\"\\nDoing $ls on filesystem\")\n",
    "!ls -l\n",
    "!pwd"
   ]
  },
  {
   "cell_type": "code",
   "execution_count": 26,
   "metadata": {},
   "outputs": [
    {
     "name": "stdout",
     "output_type": "stream",
     "text": [
      "Install numpy\n",
      "Requirement already satisfied (use --upgrade to upgrade): numpy in /System/Library/Frameworks/Python.framework/Versions/2.7/Extras/lib/python\n",
      "Cleaning up...\n"
     ]
    }
   ],
   "source": [
    "print(\"Install numpy\")  # Just for test, numpy is actually preinstalled in all Colab instancs\n",
    "!pip install numpy"
   ]
  },
  {
   "cell_type": "code",
   "execution_count": 27,
   "metadata": {},
   "outputs": [
    {
     "name": "stdout",
     "output_type": "stream",
     "text": [
      "/Users/macbook/Documents/github/my github/tensorflow\n",
      "total 24\n",
      "-rw-r--r--  1 macbook  staff  7571 May  9 23:16 Introduction to Jupyter & Python.ipynb\n",
      "drwxr-xr-x  9 macbook  staff   288 May  9 22:53 \u001b[34mmyFirstClassifier\u001b[m\u001b[m\n",
      "-rw-r--r--  1 macbook  staff  2954 May  9 22:53 notebook.ipynb\n",
      "Hello\n"
     ]
    }
   ],
   "source": [
    "!pwd\n",
    "!cd /\n",
    "!ls -l\n",
    "print(\"Hello\")"
   ]
  },
  {
   "cell_type": "code",
   "execution_count": null,
   "metadata": {},
   "outputs": [],
   "source": []
  }
 ],
 "metadata": {
  "kernelspec": {
   "display_name": "Python 3",
   "language": "python",
   "name": "python3"
  },
  "language_info": {
   "codemirror_mode": {
    "name": "ipython",
    "version": 3
   },
   "file_extension": ".py",
   "mimetype": "text/x-python",
   "name": "python",
   "nbconvert_exporter": "python",
   "pygments_lexer": "ipython3",
   "version": "3.7.3"
  }
 },
 "nbformat": 4,
 "nbformat_minor": 2
}
